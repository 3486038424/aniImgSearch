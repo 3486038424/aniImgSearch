{
 "cells": [
  {
   "cell_type": "code",
   "execution_count": null,
   "metadata": {},
   "outputs": [],
   "source": [
    "import torch\n",
    "from aniImgTagBooru.DanbooruTagger import *\n",
    "from PIL import Image\n",
    "from torchvision.transforms import Resize,ToTensor,Pad\n",
    "from datasketch import WeightedMinHashGenerator,MinHashLSHForest\n",
    "import glob\n",
    "import os\n",
    "from flask import Flask, request, render_template\n",
    "import base64\n",
    "import numpy as np \n",
    "\n",
    "device = 'cpu'\n",
    "if torch.cuda.is_available():\n",
    "    device = 'cuda'\n",
    "print(device)"
   ]
  },
  {
   "cell_type": "code",
   "execution_count": null,
   "metadata": {},
   "outputs": [],
   "source": [
    "model=torch.load('tagImg3_ls.pt')\n",
    "model=torch.nn.Sequential(*(list(model.base_model.children())[:-1]))\n",
    "model.to(device)\n",
    "transf = ToTensor()\n",
    "model.eval()\n",
    "print(model)\n"
   ]
  },
  {
   "cell_type": "code",
   "execution_count": null,
   "metadata": {},
   "outputs": [],
   "source": [
    "def img2vec(model,image_file):\n",
    "    img = Image.open(image_file)\n",
    "    if img.mode != 'RGB':\n",
    "        img = img.convert('RGB')\n",
    "    maxlen=img.width if img.width > img.height else img.height\n",
    "    img=Pad([int((maxlen-img.width)/2),int((maxlen-img.height)/2)],fill=(0,0,0),padding_mode='constant')(img)\n",
    "    inputs=Resize((256,256))(img)\n",
    "    inputs=transf(inputs).resize_([1,3,inputs.height,inputs.width])\n",
    "    with torch.no_grad():\n",
    "        inputs=inputs.to(device)\n",
    "        outputs = model(inputs)\n",
    "    torch.cuda.empty_cache()\n",
    "    return outputs.cpu().numpy().reshape(-1)\n"
   ]
  },
  {
   "cell_type": "code",
   "execution_count": null,
   "metadata": {},
   "outputs": [],
   "source": [
    "forest = MinHashLSHForest(num_perm=200,l=3)\n",
    "mg = WeightedMinHashGenerator(1280, 200)\n",
    "# 添加向量及其ID到LSH Forest和字典\n",
    "image_folder = \"G:\\comfyui\\Blender_ComfyUI\\ComfyUI\\output\"\n",
    "#image_folder = \"pixiv\\pixiv_top50_deepdan\\pixiv_top50_fin\"\n",
    "image_files = glob.glob(os.path.join(image_folder, \"*.png\"))\n",
    "n=0\n",
    "for vector_id in image_files:\n",
    "    m = mg.minhash(img2vec(model, vector_id))\n",
    "    forest.add(vector_id,m)\n",
    "    n+=1\n",
    "forest.index()"
   ]
  },
  {
   "cell_type": "code",
   "execution_count": null,
   "metadata": {},
   "outputs": [],
   "source": [
    "app = Flask(__name__)\n",
    "\n",
    "@app.route('/')\n",
    "def index():\n",
    "    return render_template('t.html')\n",
    "\n",
    "#该函数获取一张图片，并且返回最接近上传图片的10张图片的文件名\n",
    "@app.route('/img_query', methods=['POST'])\n",
    "def img_infer():\n",
    "    global forest,mg\n",
    "    image_file = request.files['image']\n",
    "    img_vec=img2vec(model, image_file)\n",
    "    target_vector=mg.minhash(img_vec)\n",
    "    return forest.query(target_vector, 10)\n",
    "\n",
    "#该函数获取一张图片的文件名，并且返回对应的图片\n",
    "@app.route('/photo', methods=['POST'])\n",
    "def img_get():\n",
    "    name=request.values.get('key')\n",
    "    with open(name, 'rb') as f:\n",
    "        res = base64.b64encode(f.read())\n",
    "    return res\n",
    "\n",
    "if __name__ == \"__main__\":\n",
    "    app.run(host=\"127.0.0.1\", port=5005)\n"
   ]
  }
 ],
 "metadata": {
  "kernelspec": {
   "display_name": "Python 3",
   "language": "python",
   "name": "python3"
  },
  "language_info": {
   "codemirror_mode": {
    "name": "ipython",
    "version": 3
   },
   "file_extension": ".py",
   "mimetype": "text/x-python",
   "name": "python",
   "nbconvert_exporter": "python",
   "pygments_lexer": "ipython3",
   "version": "3.9.15"
  }
 },
 "nbformat": 4,
 "nbformat_minor": 2
}
